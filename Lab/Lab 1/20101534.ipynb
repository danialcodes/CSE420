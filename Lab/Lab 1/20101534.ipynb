{
 "cells": [
  {
   "cell_type": "code",
   "execution_count": 21,
   "metadata": {
    "id": "RKXkzgyJpeQF"
   },
   "outputs": [],
   "source": [
    "keywords = [\"auto\",\"break\",\"case\",\"char\",\"const\",\"continue\"\t,\"default\",\"do\",\"double\",\"else\",\"enum\",\"extern\",\"float\",\"for\",\"goto\",\"if\",\"int\",\"long\",\"register\",\"return\",\"short\",\"signed\",\"sizeof\",\"static\",\"struct\",\"switch\",\"typedef\",\"union\",\"unsigned\",\"void\",\"volatile\",\"while\"]\n",
    "matOpt = [\"+\",\"-\",\"*\",\"/\",\"=\",\"%\",\"++\",\"--\"]\n",
    "logOpt = [\">\",\"<\",\"==\",\"!=\",\">=\",\"<=\",\"&&\",\"||\",\"!\"]\n",
    "others = ',:(){};[]'"
   ]
  },
  {
   "cell_type": "code",
   "execution_count": 22,
   "metadata": {
    "id": "NEr7RtKlqjfU"
   },
   "outputs": [],
   "source": [
    "table = {\n",
    "    \"Keywords\":[],\n",
    "    \"Identifiers\":[],\n",
    "    \"Math Operators\":[],\n",
    "    \"Logical operators\":[],\n",
    "    \"Numerial Values\":[],\n",
    "    \"Others\":[]\n",
    "}"
   ]
  },
  {
   "cell_type": "code",
   "execution_count": 23,
   "metadata": {
    "id": "RfiNVe43reNk"
   },
   "outputs": [],
   "source": [
    "def identify(char):\n",
    "      try:\n",
    "        float(char)\n",
    "        return \"Numerial Values\"\n",
    "      except:\n",
    "        pass\n",
    "\n",
    "      if(char in keywords):\n",
    "        return \"Keywords\"\n",
    "      elif(char in matOpt):\n",
    "        return \"Math Operators\"\n",
    "      elif(char in logOpt):\n",
    "        return \"Logical operators\"\n",
    "      else:\n",
    "        return \"Identifiers\"\n",
    "\n",
    "def add_to_table(key,value):\n",
    "      if(value):\n",
    "        if(value not in table[key]):\n",
    "          table[key].append(value)"
   ]
  },
  {
   "cell_type": "code",
   "execution_count": 24,
   "metadata": {
    "id": "MroUoA64navG"
   },
   "outputs": [],
   "source": [
    "# baseFileUrl = \"/content/drive/MyDrive/BracU/CSE420/\"\n",
    "# labName = \"Lab 1\"\n",
    "fileName = \"input.txt\"\n",
    "# file = open(f\"{baseFileUrl}{labName}/{fileName}\")\n",
    "file = open(fileName)\n",
    "\n",
    "\n",
    "for line in file:\n",
    "  line = line.strip().split()\n",
    "  for char in line:\n",
    "    if(char):\n",
    "      lst = char[-1]\n",
    "      if(lst in others):\n",
    "        add_to_table(\"Others\",lst)\n",
    "        char = char[:-1]\n",
    "      classified = identify(char)\n",
    "      add_to_table(classified,char)\n"
   ]
  },
  {
   "cell_type": "code",
   "execution_count": 25,
   "metadata": {
    "colab": {
     "base_uri": "https://localhost:8080/"
    },
    "id": "6DLbWVnioOBy",
    "outputId": "d773b070-5718-40e9-b878-794ea958fb22"
   },
   "outputs": [
    {
     "name": "stdout",
     "output_type": "stream",
     "text": [
      "Keywords: int,float,if,else\n",
      "Identifiers: a,b,c,d,e\n",
      "Math Operators: =,-,+\n",
      "Logical operators: >\n",
      "Numerial Values: 5,6,2.0,6.0\n",
      "Others: , ; ( ) { }\n"
     ]
    }
   ],
   "source": [
    "for k,v in table.items():\n",
    "    out=\"\"\n",
    "    for value in v:\n",
    "        if(k==\"Others\"):\n",
    "            out+=f\"{value} \"\n",
    "        else:\n",
    "            out+= f\"{value},\"\n",
    "            \n",
    "    print(f\"{k}: {out[:-1]}\")"
   ]
  },
  {
   "cell_type": "code",
   "execution_count": null,
   "metadata": {
    "id": "1OIB2kcMu_Vc"
   },
   "outputs": [],
   "source": []
  },
  {
   "cell_type": "code",
   "execution_count": null,
   "metadata": {
    "id": "--vd75B5xZuF"
   },
   "outputs": [],
   "source": []
  }
 ],
 "metadata": {
  "colab": {
   "provenance": []
  },
  "kernelspec": {
   "display_name": "Python 3",
   "language": "python",
   "name": "python3"
  },
  "language_info": {
   "codemirror_mode": {
    "name": "ipython",
    "version": 3
   },
   "file_extension": ".py",
   "mimetype": "text/x-python",
   "name": "python",
   "nbconvert_exporter": "python",
   "pygments_lexer": "ipython3",
   "version": "3.8.8"
  }
 },
 "nbformat": 4,
 "nbformat_minor": 1
}
